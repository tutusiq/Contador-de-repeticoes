{
 "cells": [
  {
   "metadata": {},
   "cell_type": "markdown",
   "source": [
    "## Contador de repetição utilizando MediaPipe e OpenCV\n",
    "Este projeto demonstra como criar um contador de repetições para exercícios usando as bibliotecas MediaPipe e OpenCV. Com isso, o objetivo é rastrear pontos-chave do corpo humano (como ombros, cotovelos e pulsos) para calcular ângulos de articulação e, assim, determinar o início e o fim de um movimento, como uma flexão de braço (bíceps curl)."
   ],
   "id": "39f5bda601d68833"
  },
  {
   "metadata": {},
   "cell_type": "markdown",
   "source": [
    "## 1. Instalação e Importação de Bibliotecas\n",
    "Primeiro, será importado as bibliotecas necessárias para o projeto, como o MediaPipe para detecção de pose, OpenCV para processar o vídeo da webcam e o NumPy será usado para cálculos matemáticos."
   ],
   "id": "81272688a2e4b847"
  },
  {
   "cell_type": "code",
   "id": "initial_id",
   "metadata": {
    "collapsed": true,
    "ExecuteTime": {
     "end_time": "2025-09-04T02:09:46.439120Z",
     "start_time": "2025-09-04T02:09:46.416992Z"
    }
   },
   "source": [
    "#Importação das bibliotecas e key dependencies\n",
    "import cv2\n",
    "import mediapipe as mp\n",
    "import numpy as np\n",
    "mp_drawing = mp.solutions.drawing_utils\n",
    "mp_pose = mp.solutions.pose #Pose estimation models"
   ],
   "outputs": [],
   "execution_count": 5
  },
  {
   "metadata": {},
   "cell_type": "markdown",
   "source": [
    "## 2. Função para Cálculo de Ângulo\n",
    "Nesta seção, será definido a funçõe que calcularão o ângulo entre as articulações."
   ],
   "id": "762599198265e61b"
  },
  {
   "metadata": {
    "ExecuteTime": {
     "end_time": "2025-09-04T02:09:48.343536Z",
     "start_time": "2025-09-04T02:09:48.321013Z"
    }
   },
   "cell_type": "code",
   "source": [
    "#Função para calcular qualquer angulação entre 3 articulações do corpo\n",
    "def calculate_angle (a, b, c):\n",
    "    a = np.array(a)\n",
    "    b = np.array(b)\n",
    "    c = np.array(c)\n",
    "\n",
    "    radians = np.arctan2(c[1] - b[1], c[0] - b[0]) - np.arctan2(a[1] - b[1], a[0] - c[0])\n",
    "    angle = np.abs(radians * 180. / np.pi)\n",
    "\n",
    "    if angle > 180:\n",
    "        angle = 360 - angle\n",
    "    return angle\n"
   ],
   "id": "9c4dba3a4e7e8c44",
   "outputs": [],
   "execution_count": 6
  },
  {
   "metadata": {},
   "cell_type": "markdown",
   "source": [
    "## 3. Detecção de Pose em Tempo Real\n",
    "Configuração do fluxo principal do projeto, que captura vídeo da webcam e usa o MediaPipe para detectar os pontos-chave do corpo em tempo real. Além disso, os landmarks de pose são extraídos e desenhados sobre o vídeo para visualização."
   ],
   "id": "f98967ed75dadd9e"
  },
  {
   "metadata": {
    "ExecuteTime": {
     "end_time": "2025-09-04T02:10:08.016171Z",
     "start_time": "2025-09-04T02:09:54.744180Z"
    }
   },
   "cell_type": "code",
   "source": [
    "#Acionando a webcam para servir como feed para o MediaPipe\n",
    "cap = cv2.VideoCapture(0)\n",
    "\n",
    "#Criando as variáveis do contador de repetições\n",
    "counter = 0\n",
    "stage = None\n",
    "\n",
    "#Aplicando o setup do MediaPipe\n",
    "with mp_pose.Pose(min_detection_confidence=0.5, min_tracking_confidence=0.5) as pose:\n",
    "    while cap.isOpened():\n",
    "        ret, frame = cap.read()\n",
    "\n",
    "        #Mudando a coloração da imagem de BGR para RGB\n",
    "        image = cv2.cvtColor(frame, cv2.COLOR_BGR2RGB)\n",
    "        image.flags.writeable = False\n",
    "\n",
    "        #Faz a detecção das poses em formato de \"SolutionOutputs\"\n",
    "        results = pose.process(image)\n",
    "\n",
    "        #Mudando a coloração da imagem de RGB para BGR, já que o OpenCV só aceita imagem em BGR\n",
    "        image.flags.writeable = True\n",
    "        image = cv2.cvtColor(image, cv2.COLOR_RGB2BGR)\n",
    "\n",
    "        #Extraindo os pontos de referências\n",
    "        try:\n",
    "            landmarks = results.pose_landmarks.landmark #variável landmark será em formato de dicionário\n",
    "\n",
    "            #Pegando as coordenadas das principais articulações\n",
    "            shoulder = [landmarks[mp_pose.PoseLandmark.LEFT_SHOULDER.value].x, landmarks[mp_pose.PoseLandmark.LEFT_SHOULDER.value].y]\n",
    "            elbow = [landmarks[mp_pose.PoseLandmark.LEFT_ELBOW.value].x, landmarks[mp_pose.PoseLandmark.LEFT_ELBOW.value].y]\n",
    "            wrist = [landmarks[mp_pose.PoseLandmark.LEFT_WRIST.value].x, landmarks[mp_pose.PoseLandmark.LEFT_WRIST.value].y]\n",
    "            left_hip = [landmarks[mp_pose.PoseLandmark.LEFT_HIP.value].x, landmarks[mp_pose.PoseLandmark.LEFT_HIP.value].y]\n",
    "\n",
    "            #Calculando o angulo\n",
    "            angle = calculate_angle(shoulder, elbow, wrist)\n",
    "            angle_hip2elbow = calculate_angle(left_hip, shoulder, elbow)\n",
    "\n",
    "            #Realizando a contagem das repetições\n",
    "            if angle > 160:\n",
    "                stage = \"baixo\"\n",
    "            if angle < 30 and stage == \"baixo\":\n",
    "                stage = \"cima\"\n",
    "                counter += 1\n",
    "                print(counter)\n",
    "\n",
    "            #Visualizando o ângulo no frame\n",
    "            cv2.putText(image, str(angle), tuple(np.multiply(elbow, [640, 480]).astype(int)), cv2.FONT_HERSHEY_SIMPLEX, 0.5, (255, 255, 255), 2, cv2.LINE_AA)\n",
    "            cv2.putText(image, str(angle_hip2elbow), tuple(np.multiply(shoulder, [640, 480]).astype(int)), cv2.FONT_HERSHEY_SIMPLEX, 0.5, (255, 255, 255), 2, cv2.LINE_AA)\n",
    "\n",
    "        except:\n",
    "            pass\n",
    "\n",
    "        #Colocando o contador de repetições na tela\n",
    "        #Setup do retângulo\n",
    "        cv2.rectangle(image, (0, 0), (250, 73), (245, 117, 16), -1)\n",
    "\n",
    "        #Texto que vai indicar o número de repetições\n",
    "        cv2.putText(image, \"REPS: \", (15,12), cv2.FONT_HERSHEY_SIMPLEX, 0.5, (0,0,0), 1, cv2.LINE_AA)\n",
    "        cv2.putText(image, str(counter), (10,60), cv2.FONT_HERSHEY_SIMPLEX, 2, (255,255,255), 2, cv2.LINE_AA)\n",
    "\n",
    "        #Texto que vai indicar o estado do braço\n",
    "        cv2.putText(image, \"ESTADO: \", (90,12), cv2.FONT_HERSHEY_SIMPLEX, 0.5, (0,0,0), 1, cv2.LINE_AA)\n",
    "        cv2.putText(image, stage, (90,60), cv2.FONT_HERSHEY_SIMPLEX, 2, (255,255,255), 2, cv2.LINE_AA)\n",
    "\n",
    "        '''Renderizando a detecção para sair do formato \"SolutionOutputs\" e ir para um dicionário de coordenadas (x,y,z,visibilidade)\n",
    "        com o results.pose_landmarks das articulações capturadas, já o mp_pose.POSE_CONNECTIONS seria a conexão entre\n",
    "        as articulações'''\n",
    "        mp_drawing.draw_landmarks(image, results.pose_landmarks, mp_pose.POSE_CONNECTIONS,\n",
    "                                  mp_drawing.DrawingSpec(color=(245,117,66),thickness=2,circle_radius=2),\n",
    "                                  mp_drawing.DrawingSpec(color=(245, 66, 230), thickness=2, circle_radius=2)\n",
    "                                  )\n",
    "\n",
    "        #Mostrando as coordenadas de cada articulação e as ligaões entre as articulações\n",
    "        #print(results.pose_landmarks)\n",
    "        #print(mp_pose.POSE_CONNECTIONS)\n",
    "\n",
    "        cv2.imshow('MediaPipe Feed', image)\n",
    "\n",
    "        if cv2.waitKey(1) & 0xFF == ord('q'):\n",
    "            break\n",
    "\n",
    "cap.release()\n",
    "cv2.destroyAllWindows()"
   ],
   "id": "205e449d69b9f4bf",
   "outputs": [
    {
     "name": "stdout",
     "output_type": "stream",
     "text": [
      "1\n",
      "2\n"
     ]
    }
   ],
   "execution_count": 7
  }
 ],
 "metadata": {
  "kernelspec": {
   "display_name": "Python 3",
   "language": "python",
   "name": "python3"
  },
  "language_info": {
   "codemirror_mode": {
    "name": "ipython",
    "version": 2
   },
   "file_extension": ".py",
   "mimetype": "text/x-python",
   "name": "python",
   "nbconvert_exporter": "python",
   "pygments_lexer": "ipython2",
   "version": "2.7.6"
  }
 },
 "nbformat": 4,
 "nbformat_minor": 5
}
